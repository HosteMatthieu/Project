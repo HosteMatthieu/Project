{
 "cells": [
  {
   "cell_type": "code",
   "execution_count": 68,
   "id": "273dca40-cad2-4543-8f7d-a0b80794e96e",
   "metadata": {},
   "outputs": [
    {
     "name": "stdout",
     "output_type": "stream",
     "text": [
      "The autoreload extension is already loaded. To reload it, use:\n",
      "  %reload_ext autoreload\n"
     ]
    }
   ],
   "source": [
    "# Mandatory cell for the rest of this assignment\n",
    "\n",
    "%load_ext autoreload\n",
    "%autoreload 2\n",
    "\n",
    "from sys import path\n",
    "\n",
    "path.append('../scripts')"
   ]
  },
  {
   "cell_type": "code",
   "execution_count": 69,
   "id": "80070332-fc91-4d1d-a1f5-a716c2fb1f84",
   "metadata": {},
   "outputs": [
    {
     "data": {
      "text/plain": [
       "'Success'"
      ]
     },
     "execution_count": 69,
     "metadata": {},
     "output_type": "execute_result"
    }
   ],
   "source": [
    "# Import des modules nécessaires\n",
    "from node import BlockchainNode\n",
    "from network import Node\n",
    "from wallet import Wallet\n",
    "from proof_of_stake import ProofOfStake\n",
    "\n",
    "# Création de plusieurs wallets pour les nœuds de la blockchain\n",
    "walletNode1 = Wallet()\n",
    "walletNode2 = Wallet()\n",
    "walletNode3 = Wallet()\n",
    "\n",
    "# Création d'un wallet utilisateur (ex: Alice)\n",
    "walletAlice = Wallet()\n",
    "\n",
    "# Initialisation du mécanisme de Proof of Stake avec le premier nœud\n",
    "pos = ProofOfStake(walletNode1.publicKey)\n",
    "\n",
    "#On reset le network\n",
    "Node.reset_network()\n",
    "\n",
    "#On connecte les 3 noeuds au network\n",
    "node1 = BlockchainNode(walletNode1,pos)\n",
    "node2 = BlockchainNode(walletNode2,pos)\n",
    "node3 = BlockchainNode(walletNode3,pos)\n",
    "\n",
    "assert len(Node.get_all_nodes())==3\n",
    "\"Success\""
   ]
  },
  {
   "cell_type": "code",
   "execution_count": 78,
   "id": "b23dd8cd-e4ce-44eb-81f5-29fb1228c530",
   "metadata": {},
   "outputs": [
    {
     "name": "stdout",
     "output_type": "stream",
     "text": [
      "Vérification du certificat : <smart_contract.SmartContractDefinition object at 0x0000027244E7B8F0>\n",
      "Vérification de la légitimité du certificat :\n",
      "Clé publique de l'émetteur : 30820122300d06092a864886f70d01010105000382010f003082010a0282010100e4b3aac5fcb5bc47e517aa44944b9a2f0490b23cd92ef5776ea0ddfc01584cb094c64c1f3f27126520d19990aec324593d24b751f1667976d3e9963e823310b18c497bb22cf30336856a6d8c117976445866f2333f80ea7067907626f8ae12ce0fd7de33057aa90c5a4791476147c09dc424b534381b839c3b9160d0685f6144c97aec058368b847b7dd7bbf5e0173cd09c573375e434b970dcd086ccd8f81dd248316499590c1225a1cb752a33eeed95dc77a11858eacf5342dbda3e6117fb1350a54a326246e1050b285a980ccf87da77644fc1893b351e0a7c0c2b2288c4a46dbd3edba67d97919b44981ae7284177baaf201bb47b5fcdf19ba019efe37830203010001\n",
      "Signature : 07f65d9b4b74128156a4df9892774b613309de0a607ccc942fcc593ab223b53e9662cf60eae1ae824508ae3d4925381301a7843b1577e14478a2340235a5166e426494686f555576e0def05442030db0f3a5a46206ee534a80674bd2dcd2ab5c5b19a16a0bc95f8b29d51779388a2846f9d65908181857ecb667b2e5d1a1372a3ae4b20f699032590cc5709e1e118ac3639ee33f93b7dd87de8d729aeedf1c6c974624aab1571cd1336fd976650c18efc04096527fd8f48fdf2066a9d6760d801936b9214ff99af77f20d18a1e3bfa064335001467b05043eef20ad1e0339e5d87c50a7d7cf05edb09a5f5cdb0361fb2e62daa5dcdcd88516dda1b418c38503c\n",
      "Hash du certificat : 8ed5b5946f52ba183823586a2e134ee9bfc11fb42c9263db988f37be50eb0586\n",
      "Ajout du certificat à la boîte : <smart_contract.SmartContractDefinition object at 0x0000027244E7B8F0>\n",
      "Échec du forger du bloc. Diffusion du certificat : <smart_contract.SmartContractDefinition object at 0x0000027244E7B8F0>\n",
      "Vérification du certificat : <smart_contract.SmartContractDefinition object at 0x0000027244E7B8F0>\n",
      "Vérification de la légitimité du certificat :\n",
      "Clé publique de l'émetteur : 30820122300d06092a864886f70d01010105000382010f003082010a0282010100e4b3aac5fcb5bc47e517aa44944b9a2f0490b23cd92ef5776ea0ddfc01584cb094c64c1f3f27126520d19990aec324593d24b751f1667976d3e9963e823310b18c497bb22cf30336856a6d8c117976445866f2333f80ea7067907626f8ae12ce0fd7de33057aa90c5a4791476147c09dc424b534381b839c3b9160d0685f6144c97aec058368b847b7dd7bbf5e0173cd09c573375e434b970dcd086ccd8f81dd248316499590c1225a1cb752a33eeed95dc77a11858eacf5342dbda3e6117fb1350a54a326246e1050b285a980ccf87da77644fc1893b351e0a7c0c2b2288c4a46dbd3edba67d97919b44981ae7284177baaf201bb47b5fcdf19ba019efe37830203010001\n",
      "Signature : 07f65d9b4b74128156a4df9892774b613309de0a607ccc942fcc593ab223b53e9662cf60eae1ae824508ae3d4925381301a7843b1577e14478a2340235a5166e426494686f555576e0def05442030db0f3a5a46206ee534a80674bd2dcd2ab5c5b19a16a0bc95f8b29d51779388a2846f9d65908181857ecb667b2e5d1a1372a3ae4b20f699032590cc5709e1e118ac3639ee33f93b7dd87de8d729aeedf1c6c974624aab1571cd1336fd976650c18efc04096527fd8f48fdf2066a9d6760d801936b9214ff99af77f20d18a1e3bfa064335001467b05043eef20ad1e0339e5d87c50a7d7cf05edb09a5f5cdb0361fb2e62daa5dcdcd88516dda1b418c38503c\n",
      "Hash du certificat : 8ed5b5946f52ba183823586a2e134ee9bfc11fb42c9263db988f37be50eb0586\n",
      "Ajout du certificat à la boîte : <smart_contract.SmartContractDefinition object at 0x0000027244E7B8F0>\n",
      "Échec du forger du bloc. Diffusion du certificat : <smart_contract.SmartContractDefinition object at 0x0000027244E7B8F0>\n",
      "Vérification du certificat : <smart_contract.SmartContractDefinition object at 0x0000027244E7B8F0>\n",
      "Vérification de la légitimité du certificat :\n",
      "Clé publique de l'émetteur : 30820122300d06092a864886f70d01010105000382010f003082010a0282010100e4b3aac5fcb5bc47e517aa44944b9a2f0490b23cd92ef5776ea0ddfc01584cb094c64c1f3f27126520d19990aec324593d24b751f1667976d3e9963e823310b18c497bb22cf30336856a6d8c117976445866f2333f80ea7067907626f8ae12ce0fd7de33057aa90c5a4791476147c09dc424b534381b839c3b9160d0685f6144c97aec058368b847b7dd7bbf5e0173cd09c573375e434b970dcd086ccd8f81dd248316499590c1225a1cb752a33eeed95dc77a11858eacf5342dbda3e6117fb1350a54a326246e1050b285a980ccf87da77644fc1893b351e0a7c0c2b2288c4a46dbd3edba67d97919b44981ae7284177baaf201bb47b5fcdf19ba019efe37830203010001\n",
      "Signature : 07f65d9b4b74128156a4df9892774b613309de0a607ccc942fcc593ab223b53e9662cf60eae1ae824508ae3d4925381301a7843b1577e14478a2340235a5166e426494686f555576e0def05442030db0f3a5a46206ee534a80674bd2dcd2ab5c5b19a16a0bc95f8b29d51779388a2846f9d65908181857ecb667b2e5d1a1372a3ae4b20f699032590cc5709e1e118ac3639ee33f93b7dd87de8d729aeedf1c6c974624aab1571cd1336fd976650c18efc04096527fd8f48fdf2066a9d6760d801936b9214ff99af77f20d18a1e3bfa064335001467b05043eef20ad1e0339e5d87c50a7d7cf05edb09a5f5cdb0361fb2e62daa5dcdcd88516dda1b418c38503c\n",
      "Hash du certificat : 8ed5b5946f52ba183823586a2e134ee9bfc11fb42c9263db988f37be50eb0586\n",
      "Certificat déjà dans la boîte : <smart_contract.SmartContractDefinition object at 0x0000027244E7B8F0>\n",
      "Vérification du certificat : <smart_contract.SmartContractDefinition object at 0x0000027244E7B8F0>\n",
      "Vérification de la légitimité du certificat :\n",
      "Clé publique de l'émetteur : 30820122300d06092a864886f70d01010105000382010f003082010a0282010100e4b3aac5fcb5bc47e517aa44944b9a2f0490b23cd92ef5776ea0ddfc01584cb094c64c1f3f27126520d19990aec324593d24b751f1667976d3e9963e823310b18c497bb22cf30336856a6d8c117976445866f2333f80ea7067907626f8ae12ce0fd7de33057aa90c5a4791476147c09dc424b534381b839c3b9160d0685f6144c97aec058368b847b7dd7bbf5e0173cd09c573375e434b970dcd086ccd8f81dd248316499590c1225a1cb752a33eeed95dc77a11858eacf5342dbda3e6117fb1350a54a326246e1050b285a980ccf87da77644fc1893b351e0a7c0c2b2288c4a46dbd3edba67d97919b44981ae7284177baaf201bb47b5fcdf19ba019efe37830203010001\n",
      "Signature : 07f65d9b4b74128156a4df9892774b613309de0a607ccc942fcc593ab223b53e9662cf60eae1ae824508ae3d4925381301a7843b1577e14478a2340235a5166e426494686f555576e0def05442030db0f3a5a46206ee534a80674bd2dcd2ab5c5b19a16a0bc95f8b29d51779388a2846f9d65908181857ecb667b2e5d1a1372a3ae4b20f699032590cc5709e1e118ac3639ee33f93b7dd87de8d729aeedf1c6c974624aab1571cd1336fd976650c18efc04096527fd8f48fdf2066a9d6760d801936b9214ff99af77f20d18a1e3bfa064335001467b05043eef20ad1e0339e5d87c50a7d7cf05edb09a5f5cdb0361fb2e62daa5dcdcd88516dda1b418c38503c\n",
      "Hash du certificat : 8ed5b5946f52ba183823586a2e134ee9bfc11fb42c9263db988f37be50eb0586\n",
      "Ajout du certificat à la boîte : <smart_contract.SmartContractDefinition object at 0x0000027244E7B8F0>\n",
      "Échec du forger du bloc. Diffusion du certificat : <smart_contract.SmartContractDefinition object at 0x0000027244E7B8F0>\n",
      "Vérification du certificat : <smart_contract.SmartContractDefinition object at 0x0000027244E7B8F0>\n",
      "Vérification de la légitimité du certificat :\n",
      "Clé publique de l'émetteur : 30820122300d06092a864886f70d01010105000382010f003082010a0282010100e4b3aac5fcb5bc47e517aa44944b9a2f0490b23cd92ef5776ea0ddfc01584cb094c64c1f3f27126520d19990aec324593d24b751f1667976d3e9963e823310b18c497bb22cf30336856a6d8c117976445866f2333f80ea7067907626f8ae12ce0fd7de33057aa90c5a4791476147c09dc424b534381b839c3b9160d0685f6144c97aec058368b847b7dd7bbf5e0173cd09c573375e434b970dcd086ccd8f81dd248316499590c1225a1cb752a33eeed95dc77a11858eacf5342dbda3e6117fb1350a54a326246e1050b285a980ccf87da77644fc1893b351e0a7c0c2b2288c4a46dbd3edba67d97919b44981ae7284177baaf201bb47b5fcdf19ba019efe37830203010001\n",
      "Signature : 07f65d9b4b74128156a4df9892774b613309de0a607ccc942fcc593ab223b53e9662cf60eae1ae824508ae3d4925381301a7843b1577e14478a2340235a5166e426494686f555576e0def05442030db0f3a5a46206ee534a80674bd2dcd2ab5c5b19a16a0bc95f8b29d51779388a2846f9d65908181857ecb667b2e5d1a1372a3ae4b20f699032590cc5709e1e118ac3639ee33f93b7dd87de8d729aeedf1c6c974624aab1571cd1336fd976650c18efc04096527fd8f48fdf2066a9d6760d801936b9214ff99af77f20d18a1e3bfa064335001467b05043eef20ad1e0339e5d87c50a7d7cf05edb09a5f5cdb0361fb2e62daa5dcdcd88516dda1b418c38503c\n",
      "Hash du certificat : 8ed5b5946f52ba183823586a2e134ee9bfc11fb42c9263db988f37be50eb0586\n",
      "Certificat déjà dans la boîte : <smart_contract.SmartContractDefinition object at 0x0000027244E7B8F0>\n",
      "Vérification du certificat : <smart_contract.SmartContractDefinition object at 0x0000027244E7B8F0>\n",
      "Vérification de la légitimité du certificat :\n",
      "Clé publique de l'émetteur : 30820122300d06092a864886f70d01010105000382010f003082010a0282010100e4b3aac5fcb5bc47e517aa44944b9a2f0490b23cd92ef5776ea0ddfc01584cb094c64c1f3f27126520d19990aec324593d24b751f1667976d3e9963e823310b18c497bb22cf30336856a6d8c117976445866f2333f80ea7067907626f8ae12ce0fd7de33057aa90c5a4791476147c09dc424b534381b839c3b9160d0685f6144c97aec058368b847b7dd7bbf5e0173cd09c573375e434b970dcd086ccd8f81dd248316499590c1225a1cb752a33eeed95dc77a11858eacf5342dbda3e6117fb1350a54a326246e1050b285a980ccf87da77644fc1893b351e0a7c0c2b2288c4a46dbd3edba67d97919b44981ae7284177baaf201bb47b5fcdf19ba019efe37830203010001\n",
      "Signature : 07f65d9b4b74128156a4df9892774b613309de0a607ccc942fcc593ab223b53e9662cf60eae1ae824508ae3d4925381301a7843b1577e14478a2340235a5166e426494686f555576e0def05442030db0f3a5a46206ee534a80674bd2dcd2ab5c5b19a16a0bc95f8b29d51779388a2846f9d65908181857ecb667b2e5d1a1372a3ae4b20f699032590cc5709e1e118ac3639ee33f93b7dd87de8d729aeedf1c6c974624aab1571cd1336fd976650c18efc04096527fd8f48fdf2066a9d6760d801936b9214ff99af77f20d18a1e3bfa064335001467b05043eef20ad1e0339e5d87c50a7d7cf05edb09a5f5cdb0361fb2e62daa5dcdcd88516dda1b418c38503c\n",
      "Hash du certificat : 8ed5b5946f52ba183823586a2e134ee9bfc11fb42c9263db988f37be50eb0586\n",
      "Certificat déjà dans la boîte : <smart_contract.SmartContractDefinition object at 0x0000027244E7B8F0>\n",
      "Vérification du certificat : <smart_contract.SmartContractDefinition object at 0x0000027244E7B8F0>\n",
      "Vérification de la légitimité du certificat :\n",
      "Clé publique de l'émetteur : 30820122300d06092a864886f70d01010105000382010f003082010a0282010100e4b3aac5fcb5bc47e517aa44944b9a2f0490b23cd92ef5776ea0ddfc01584cb094c64c1f3f27126520d19990aec324593d24b751f1667976d3e9963e823310b18c497bb22cf30336856a6d8c117976445866f2333f80ea7067907626f8ae12ce0fd7de33057aa90c5a4791476147c09dc424b534381b839c3b9160d0685f6144c97aec058368b847b7dd7bbf5e0173cd09c573375e434b970dcd086ccd8f81dd248316499590c1225a1cb752a33eeed95dc77a11858eacf5342dbda3e6117fb1350a54a326246e1050b285a980ccf87da77644fc1893b351e0a7c0c2b2288c4a46dbd3edba67d97919b44981ae7284177baaf201bb47b5fcdf19ba019efe37830203010001\n",
      "Signature : 07f65d9b4b74128156a4df9892774b613309de0a607ccc942fcc593ab223b53e9662cf60eae1ae824508ae3d4925381301a7843b1577e14478a2340235a5166e426494686f555576e0def05442030db0f3a5a46206ee534a80674bd2dcd2ab5c5b19a16a0bc95f8b29d51779388a2846f9d65908181857ecb667b2e5d1a1372a3ae4b20f699032590cc5709e1e118ac3639ee33f93b7dd87de8d729aeedf1c6c974624aab1571cd1336fd976650c18efc04096527fd8f48fdf2066a9d6760d801936b9214ff99af77f20d18a1e3bfa064335001467b05043eef20ad1e0339e5d87c50a7d7cf05edb09a5f5cdb0361fb2e62daa5dcdcd88516dda1b418c38503c\n",
      "Hash du certificat : 8ed5b5946f52ba183823586a2e134ee9bfc11fb42c9263db988f37be50eb0586\n",
      "Certificat déjà dans la boîte : <smart_contract.SmartContractDefinition object at 0x0000027244E7B8F0>\n",
      "[<block.Block object at 0x0000027244DE9D60>]\n",
      "[<block.Block object at 0x0000027244E7A4E0>]\n",
      "[<block.Block object at 0x0000027244E79F70>]\n"
     ]
    }
   ],
   "source": [
    "# Exemple de source de code pour le smart contract\n",
    "source_code = \"\"\"\n",
    "class MyNFTContract:\n",
    "    def __init__(self, issuerPublicKey):\n",
    "        self.issuerPublicKey = issuerPublicKey\n",
    "        self.nfts = {}  # Dictionnaire des NFTs\n",
    "\n",
    "    def mint(self, ownerPublicKey, nftId):\n",
    "        if nftId not in self.nfts:\n",
    "            self.nfts[nftId] = ownerPublicKey\n",
    "            print(f\"NFT {nftId} frappé par {ownerPublicKey}\")\n",
    "        else:\n",
    "            raise ValueError(f\"NFT {nftId} déjà existant\")\n",
    "\n",
    "    def transfer(self, senderPublicKey, receiverPublicKey, nftId):\n",
    "        if nftId in self.nfts and self.nfts[nftId] == senderPublicKey:\n",
    "            self.nfts[nftId] = receiverPublicKey\n",
    "            print(f\"NFT {nftId} transféré de {senderPublicKey} à {receiverPublicKey}\")\n",
    "        else:\n",
    "            raise ValueError(\"NFT inexistant ou propriété invalide\")\n",
    "\"\"\"\n",
    "\n",
    "# Création du Smart Contract (définition)\n",
    "contract_definition = SmartContractDefinition(issuerPublicKey=walletAlice.publicKey, sourceCode=source_code, Ntoken=5)\n",
    "\n",
    "# Signer le certificat\n",
    "walletAlice.sign(contract_definition)\n",
    "\n",
    "# Instanciation du Smart Contract\n",
    "contract_instance = contract_definition.instantiate_contract()\n",
    "\n",
    "# Ajouter le Smart Contract au premier nœud (node1)\n",
    "node1.new_certificate(contract_definition) # Ajouter le smart contract au nœud\n",
    "\n",
    "print(node1.blockchain.blockList)\n",
    "print(node2.blockchain.blockList)\n",
    "print(node3.blockchain.blockList)"
   ]
  },
  {
   "cell_type": "code",
   "execution_count": 71,
   "id": "fbe878b6-695f-4e1a-ba1c-57bfd09b3568",
   "metadata": {},
   "outputs": [
    {
     "name": "stdout",
     "output_type": "stream",
     "text": [
      "NFT NFT1 frappée par Alice\n"
     ]
    }
   ],
   "source": [
    "# Frapper un NFT pour Alice via node1\n",
    "contract_definition.mint(ownerPublicKey=\"Alice\", nftId=\"NFT1\")"
   ]
  },
  {
   "cell_type": "code",
   "execution_count": 72,
   "id": "ce6db9f1-0e5b-4927-af00-801c4aa184b4",
   "metadata": {},
   "outputs": [
    {
     "name": "stdout",
     "output_type": "stream",
     "text": [
      "{'NFT1': 'Alice'}\n"
     ]
    }
   ],
   "source": [
    "print(contract_definition.owners)"
   ]
  },
  {
   "cell_type": "code",
   "execution_count": 75,
   "id": "688e31ea-12fe-4b06-8e42-4cbc905894f5",
   "metadata": {},
   "outputs": [
    {
     "name": "stdout",
     "output_type": "stream",
     "text": [
      "NFT NFT1 transférée de Alice à Edouard\n",
      "{'NFT1': 'Edouard'}\n"
     ]
    }
   ],
   "source": [
    "#Transferer un NFT de Alice à Edouard\n",
    "contract_definition.transfer(senderPublicKey=\"Alice\", receiverPublicKey=\"Edouard\", nftId=\"NFT1\")\n",
    "print(contract_definition.owners)"
   ]
  },
  {
   "cell_type": "code",
   "execution_count": null,
   "id": "b9591c4e-0bdf-49b1-8f83-3f3734df7719",
   "metadata": {},
   "outputs": [],
   "source": []
  }
 ],
 "metadata": {
  "kernelspec": {
   "display_name": "Python 3 (ipykernel)",
   "language": "python",
   "name": "python3"
  },
  "language_info": {
   "codemirror_mode": {
    "name": "ipython",
    "version": 3
   },
   "file_extension": ".py",
   "mimetype": "text/x-python",
   "name": "python",
   "nbconvert_exporter": "python",
   "pygments_lexer": "ipython3",
   "version": "3.12.3"
  }
 },
 "nbformat": 4,
 "nbformat_minor": 5
}
