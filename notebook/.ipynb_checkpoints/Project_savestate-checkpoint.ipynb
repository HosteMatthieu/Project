{
 "cells": [
  {
   "cell_type": "code",
   "execution_count": 1,
   "id": "273dca40-cad2-4543-8f7d-a0b80794e96e",
   "metadata": {},
   "outputs": [],
   "source": [
    "# Mandatory cell for the rest of this assignment\n",
    "\n",
    "%load_ext autoreload\n",
    "%autoreload 2\n",
    "\n",
    "from sys import path\n",
    "\n",
    "path.append('../scripts')"
   ]
  },
  {
   "cell_type": "code",
   "execution_count": 2,
   "id": "276e8931",
   "metadata": {},
   "outputs": [],
   "source": [
    "# Création du dictionnaire d'NFT\n",
    "dico_nft = {}\n",
    "\n",
    "for i in range(0, 100):\n",
    "    nftId = f\"NFT{i}\"\n",
    "    dico_nft[nftId] = f\"../nft_images/{nftId}.png\""
   ]
  },
  {
   "cell_type": "code",
   "execution_count": 3,
   "id": "80070332-fc91-4d1d-a1f5-a716c2fb1f84",
   "metadata": {},
   "outputs": [
    {
     "data": {
      "text/plain": [
       "'Success'"
      ]
     },
     "execution_count": 3,
     "metadata": {},
     "output_type": "execute_result"
    }
   ],
   "source": [
    "# Import des modules nécessaires\n",
    "from node import BlockchainNode\n",
    "from network import Node\n",
    "from wallet import Wallet\n",
    "from proof_of_stake import ProofOfStake\n",
    "from smart_contract import SmartContractDefinition, SmartContractWritingOperation\n",
    "\n",
    "# Création de plusieurs wallets pour les nœuds de la blockchain\n",
    "walletNode1 = Wallet()\n",
    "walletNode2 = Wallet()\n",
    "walletNode3 = Wallet()\n",
    "\n",
    "# Création d'un wallet propriétaire pour le smart contract\n",
    "walletProprietaire = Wallet()\n",
    "\n",
    "# Création de wallets user :\n",
    "walletMatthieu = Wallet()\n",
    "walletEdouard = Wallet()\n",
    "walletMilo = Wallet()\n",
    "walletHugo = Wallet()\n",
    "walletVincent = Wallet()\n",
    "walletHenri = Wallet()\n",
    "\n",
    "# Initialisation du mécanisme de Proof of Stake avec le premier nœud\n",
    "pos = ProofOfStake(walletNode1.publicKey)\n",
    "\n",
    "# On reset le network\n",
    "Node.reset_network()\n",
    "\n",
    "# On connecte les 3 noeuds au network\n",
    "node1 = BlockchainNode(walletNode1,pos)\n",
    "node2 = BlockchainNode(walletNode2,pos)\n",
    "node3 = BlockchainNode(walletNode3,pos)\n",
    "\n",
    "assert len(Node.get_all_nodes()) == 3\n",
    "\"Success\""
   ]
  },
  {
   "cell_type": "code",
   "execution_count": 4,
   "id": "b23dd8cd-e4ce-44eb-81f5-29fb1228c530",
   "metadata": {},
   "outputs": [
    {
     "name": "stdout",
     "output_type": "stream",
     "text": [
      "Échec du forger du bloc. Diffusion du certificat : <smart_contract.SmartContractDefinition object at 0x0000019FDD7146E0>\n",
      "Échec du forger du bloc. Diffusion du certificat : <smart_contract.SmartContractDefinition object at 0x0000019FDD7146E0>\n",
      "Échec du forger du bloc. Diffusion du certificat : <smart_contract.SmartContractDefinition object at 0x0000019FDD7146E0>\n",
      "[<block.Block object at 0x0000019FDD693380>]\n",
      "[<block.Block object at 0x0000019FDD5CA850>]\n",
      "[<block.Block object at 0x0000019FDD5CAD50>]\n"
     ]
    }
   ],
   "source": [
    "# Exemple de source de code pour le smart contract\n",
    "source_code = \"\"\"\n",
    "class MyNFTContract:\n",
    "    def __init__(self, issuerPublicKey):\n",
    "        self.issuerPublicKey = issuerPublicKey\n",
    "        self.nfts = {}  # Dictionnaire des NFTs\n",
    "\n",
    "    def mint(self, ownerPublicKey, nftId):\n",
    "        if nftId not in self.nfts:\n",
    "            self.nfts[nftId] = ownerPublicKey\n",
    "            print(f\"NFT {nftId} frappé par {ownerPublicKey}\")\n",
    "        else:\n",
    "            raise ValueError(f\"NFT {nftId} déjà existant\")\n",
    "\n",
    "    def transfer(self, senderPublicKey, receiverPublicKey, nftId):\n",
    "        if nftId in self.nfts and self.nfts[nftId] == senderPublicKey:\n",
    "            self.nfts[nftId] = receiverPublicKey\n",
    "            print(f\"NFT {nftId} transféré de {senderPublicKey} à {receiverPublicKey}\")\n",
    "        else:\n",
    "            raise ValueError(\"NFT inexistant ou propriété invalide\")\n",
    "\"\"\"\n",
    "\n",
    "# Création du Smart Contract (définition)\n",
    "NFT_contract = SmartContractDefinition(issuerPublicKey=walletProprietaire.publicKey, sourceCode=source_code, Ntoken=len(dico_nft))\n",
    "\n",
    "# Signer le certificat\n",
    "walletProprietaire.sign(NFT_contract)\n",
    "\n",
    "# Instanciation du Smart Contract\n",
    "NFT_instance = NFT_contract.instantiate_contract()\n",
    "\n",
    "# Ajouter le Smart Contract au premier nœud (node1)\n",
    "node1.new_certificate(NFT_contract) # Ajouter le smart contract au nœud\n",
    "\n",
    "print(node1.blockchain.blockList)\n",
    "print(node2.blockchain.blockList)\n",
    "print(node3.blockchain.blockList)"
   ]
  },
  {
   "cell_type": "code",
   "execution_count": 5,
   "id": "48bb54f7-2933-47f8-880d-c6e772e8ffe8",
   "metadata": {},
   "outputs": [
    {
     "data": {
      "text/plain": [
       "False"
      ]
     },
     "execution_count": 5,
     "metadata": {},
     "output_type": "execute_result"
    }
   ],
   "source": [
    "# On vérifie si la période de minage est ouverte\n",
    "NFT_contract.is_minting_open()"
   ]
  },
  {
   "cell_type": "markdown",
   "id": "d811d18a-9a75-46a4-a84a-dd56bb25e02c",
   "metadata": {},
   "source": [
    "La période de minage est fermée donc les utilisateurs ne peuvent pas encore miner leur NFT. On peut quand même faire les tests :"
   ]
  },
  {
   "cell_type": "code",
   "execution_count": 6,
   "id": "fbe878b6-695f-4e1a-ba1c-57bfd09b3568",
   "metadata": {},
   "outputs": [
    {
     "name": "stdout",
     "output_type": "stream",
     "text": [
      "La période de minage est fermée.\n"
     ]
    }
   ],
   "source": [
    "try:\n",
    "    assert NFT_contract.mint(ownerPublicKey=walletEdouard.publicKey, nftId=\"NFT1\")\n",
    "except ValueError as error:\n",
    "    print(error)"
   ]
  },
  {
   "cell_type": "markdown",
   "id": "c76ab606-020a-4f62-bd37-9ac3726ee9b0",
   "metadata": {},
   "source": [
    "Il n'y a que le propriétaire du smart contract qui peut activer la période de minage. Ici c'est Alice !"
   ]
  },
  {
   "cell_type": "code",
   "execution_count": 7,
   "id": "a170ffd8-96d9-4a3d-9cad-11bb80fe6da9",
   "metadata": {},
   "outputs": [
    {
     "name": "stdout",
     "output_type": "stream",
     "text": [
      "Période de minage ouverte pendant 1000 secondes\n"
     ]
    }
   ],
   "source": [
    "NFT_contract.open_minting(walletProprietaire.publicKey, 1000)"
   ]
  },
  {
   "cell_type": "code",
   "execution_count": 8,
   "id": "c377b239-88bb-4ab3-a547-f3b419693170",
   "metadata": {},
   "outputs": [
    {
     "data": {
      "text/plain": [
       "'Minting open!'"
      ]
     },
     "execution_count": 8,
     "metadata": {},
     "output_type": "execute_result"
    }
   ],
   "source": [
    "assert NFT_contract.is_minting_open()\n",
    "\"Minting open!\""
   ]
  },
  {
   "cell_type": "markdown",
   "id": "72f45806-6a24-4907-a1ab-9bcae3473238",
   "metadata": {},
   "source": [
    "Maintenant qu'on a ouvert la periode de minage les utilisateurs peuvent miner des NFT"
   ]
  },
  {
   "cell_type": "code",
   "execution_count": 9,
   "id": "2e1abcaa-9f7a-40a5-a6f6-c405605b9046",
   "metadata": {},
   "outputs": [
    {
     "name": "stdout",
     "output_type": "stream",
     "text": [
      "NFT NFT1 minée par 30820122300d06092a864886f70d01010105000382010f003082010a0282010100e2cbeccdfe597a82c61caa253794d7dbb13fd6cc735b21578b29a05381bf840cbb79eecc6a50f403bc6a6b84420407d9ae4681b697881b95bdf120081a7480126b76ad719f9ad3827bd6e2649c48e0f8c1cbf3aa43d4ec0d642386aceba2d9ec6efcbd063432ccfc0029c4edbe3da6b7ae418e316ccc1e3b49e8f51dcfbb5715639ed687c0570f2b9dd41b64f70bb39adfa0210f082134755a4cda8740b7b1bca09d9116b2eba6109dee95f32df6ee28dad86ab344362c9ea4807fbd682f35938fdb242ead46ce41efa479dcd7a95a1e6d9c38827ff3e1a095939fa7d2079e9950ebc0d28cd72a5305b72dc732a3a28359a33481bddf9016df6eaf1806f549790203010001\n",
      "{'NFT1': '30820122300d06092a864886f70d01010105000382010f003082010a0282010100e2cbeccdfe597a82c61caa253794d7dbb13fd6cc735b21578b29a05381bf840cbb79eecc6a50f403bc6a6b84420407d9ae4681b697881b95bdf120081a7480126b76ad719f9ad3827bd6e2649c48e0f8c1cbf3aa43d4ec0d642386aceba2d9ec6efcbd063432ccfc0029c4edbe3da6b7ae418e316ccc1e3b49e8f51dcfbb5715639ed687c0570f2b9dd41b64f70bb39adfa0210f082134755a4cda8740b7b1bca09d9116b2eba6109dee95f32df6ee28dad86ab344362c9ea4807fbd682f35938fdb242ead46ce41efa479dcd7a95a1e6d9c38827ff3e1a095939fa7d2079e9950ebc0d28cd72a5305b72dc732a3a28359a33481bddf9016df6eaf1806f549790203010001'}\n"
     ]
    }
   ],
   "source": [
    "NFT_contract.mint(ownerPublicKey=walletEdouard.publicKey, nftId=\"NFT1\")\n",
    "print(NFT_contract.owners)"
   ]
  },
  {
   "cell_type": "code",
   "execution_count": 10,
   "id": "6495b121-f70f-44e6-a66a-5e04404a278e",
   "metadata": {},
   "outputs": [
    {
     "name": "stdout",
     "output_type": "stream",
     "text": [
      "NFT NFT2 minée par 30820122300d06092a864886f70d01010105000382010f003082010a0282010100d73945456b7f21ad819277f129696912f93de0e82d07c0b5c0102fd98555b3f6ade20b1a0c7b35b9bcbddfd7dc35d5ee7d319e25af85a7cd8d7793432475c5e629ebe8ad8db5b5064d9ece0de7abcbaa1d8b0732fb94a2290e32e4294258a3ac12a91ce2923be8ae617a17f3ab6d503a615758917aaab16d7f9bce5ec93be331121727aa807d77a2dcda40b10711c78b1f6e6aafe208463959516e374a7b30f264f7f2de5fca7faa1bbd0f89e6c58bf6a011af1bd259cfad1caac1c6f23d929b475b058434e4a2369a43e8ee76df041c6c4678d3f288431f6587421a7d58eb7bdfc046774ae399ccde7cbae6c282888c468e443ad43c3ee24a148b8e351b13f50203010001\n",
      "NFT NFT3 minée par 30820122300d06092a864886f70d01010105000382010f003082010a02820101009325d7906457c74d7cc01b6842cc2c04b4630ceef1dd837c66331a700fbbc336a61b5a3178399de69b6de36d5cd62e841af5a429748723b3d115cdab2b990bd7d94290e481e4db129b9b31227e3ba9310217c662974479a7b58aa617e7e258b7255afb8292ad5c13e62a2411cbb0fe1d9e10e4868ae64b3a926613e24f65f9bea2de1ea5d737e7e50ff8f0e96f6474cb00375cbe3f6094ab2d3ebe52d34db79e61cc68890830fe9ada1f6b2d70764c324caed176211cd5c6f6a4989a9ee51fea109ce43df5c552704e7d2c705f3f1cd39d9b3c8e3bdf494480a0521bb118a3f10081ae36487b3e1c4ea6c043fadebda0effd7efcee4a21b09e5946632ec7edcf0203010001\n",
      "NFT NFT4 minée par 30820122300d06092a864886f70d01010105000382010f003082010a0282010100882178e26b75a108c82b41faebafc6c5ac6039e825c484df176e74a70eb42a55f84a99ed84f7a2f449568f8cfc75605ebb97ea6a95e0a34d4ccabe5ff1f671dfafefba0a88588503662678654abb2d6bf24e6233e004ee2433dd69e83d3b30b0b251abbd5af9cde1d32c654df6717bd38d6d9829321fb011cb6357054267404635ee4c0252ec7db27201f87eaca85f0ad1a3c94f90b59e15221845b3de109f54356e0958eead979a59a1821556f1f264d290169f9c3d242aa0391536b7e443eebc9a3c4d4e51150e4d1e4c7dc3c252031e3d1fcf8758ea93cc51bf53e3746939ef8374ecb7fd6be3f199bda89886fc083e9c8d1074b7e5e1816ae5e6dfb477f30203010001\n",
      "NFT NFT5 minée par 30820122300d06092a864886f70d01010105000382010f003082010a0282010100b151bff49a235224ee2f9c4036fc13a70e069d704a6e1a31cc9028e967fad660bcac613f86047e4c8a79f1854a6eeab4338448c16e2549abfd6dbc7bfbdd647decf9cff74e944cb5ecb3a83eaac0adcf2561de3338a22d342c48cddfdd8ce54192c93030d11147c5a0a0f71c1889b57a83589b866acadb2be60345033137d19af2ffa62924efc58e512255ca6580ddd0b9112c2bdb1813ae2b2d2c2576ad4c6d6357c27abb92c755d1888f600eb606bf65bdcd28e6873c4d9aad37cc29e163382a6a0c63b0f6e3cbcaf307567a219a0b56a07b5a0c20a3bd6a9635197b09cfe92d2e0c398b5741bd551b89c02d9ad442ec575cf71fafe57128d3ddbff37d4e610203010001\n"
     ]
    }
   ],
   "source": [
    "NFT_contract.mint(ownerPublicKey=walletMatthieu.publicKey, nftId=\"NFT2\")\n",
    "NFT_contract.mint(ownerPublicKey=walletHugo.publicKey, nftId=\"NFT3\")\n",
    "NFT_contract.mint(ownerPublicKey=walletMilo.publicKey, nftId=\"NFT4\")\n",
    "NFT_contract.mint(ownerPublicKey=walletHenri.publicKey, nftId=\"NFT5\")"
   ]
  },
  {
   "cell_type": "markdown",
   "id": "796fb7b4-2aa2-48c9-8915-bfd5bf8ff84e",
   "metadata": {},
   "source": [
    "On peut changer le propriétaire d'un NFT si c'est le propriétaire de ce dernier qui le demande"
   ]
  },
  {
   "cell_type": "code",
   "execution_count": 12,
   "id": "6548c4f1-4a14-4cba-aa80-9f9dff878523",
   "metadata": {},
   "outputs": [
    {
     "name": "stdout",
     "output_type": "stream",
     "text": [
      "NFT NFT5 transférée de 30820122300d06092a864886f70d01010105000382010f003082010a0282010100b151bff49a235224ee2f9c4036fc13a70e069d704a6e1a31cc9028e967fad660bcac613f86047e4c8a79f1854a6eeab4338448c16e2549abfd6dbc7bfbdd647decf9cff74e944cb5ecb3a83eaac0adcf2561de3338a22d342c48cddfdd8ce54192c93030d11147c5a0a0f71c1889b57a83589b866acadb2be60345033137d19af2ffa62924efc58e512255ca6580ddd0b9112c2bdb1813ae2b2d2c2576ad4c6d6357c27abb92c755d1888f600eb606bf65bdcd28e6873c4d9aad37cc29e163382a6a0c63b0f6e3cbcaf307567a219a0b56a07b5a0c20a3bd6a9635197b09cfe92d2e0c398b5741bd551b89c02d9ad442ec575cf71fafe57128d3ddbff37d4e610203010001 à 30820122300d06092a864886f70d01010105000382010f003082010a0282010100cbe83d19918bfaff4b5e1c471f24330b1378424e6669587255e71c545a1ace2387dda6e60f10a8e4dd1150a3e2f7be31a9ae3f96107bf9a82ddc04b79704b6abf6d6e71fd8940c418c7b65b8871a1ef18827ebf675d32b64f47fa8dba5c17ad40b27ef31f8eefcba89ac25254355dc2449a421564ed82fc0c7c7421808d7e15aac309895d54f8d69e019f30c8b1bcde5115c503e3cdc34bb8323a7dbd5b234814ac7133b8d75a790b7380908bc31bb044a8581da3ed4bd350122a6c6749475bc52a0938e7adad7f6beef77ad2cf9d3d27853c32d5559ab081cdca0c0d60a56b608ab1973e1ccbd209db79ae211f38c8443496c2395b09b4ee84a563bdf0b93110203010001\n"
     ]
    }
   ],
   "source": [
    "NFT_contract.transfer(senderPublicKey=walletHenri.publicKey, receiverPublicKey=walletVincent.publicKey, nftId=\"NFT5\")"
   ]
  },
  {
   "cell_type": "code",
   "execution_count": 13,
   "id": "b9dde7b4-7465-4060-8dc2-e86be2b6cbb1",
   "metadata": {},
   "outputs": [
    {
     "ename": "ValueError",
     "evalue": "NFT n'appartient pas à l'expéditeur",
     "output_type": "error",
     "traceback": [
      "\u001b[1;31m---------------------------------------------------------------------------\u001b[0m",
      "\u001b[1;31mValueError\u001b[0m                                Traceback (most recent call last)",
      "Cell \u001b[1;32mIn[13], line 1\u001b[0m\n\u001b[1;32m----> 1\u001b[0m \u001b[43mNFT_contract\u001b[49m\u001b[38;5;241;43m.\u001b[39;49m\u001b[43mtransfer\u001b[49m\u001b[43m(\u001b[49m\u001b[43msenderPublicKey\u001b[49m\u001b[38;5;241;43m=\u001b[39;49m\u001b[43mwalletHenri\u001b[49m\u001b[38;5;241;43m.\u001b[39;49m\u001b[43mpublicKey\u001b[49m\u001b[43m,\u001b[49m\u001b[43m \u001b[49m\u001b[43mreceiverPublicKey\u001b[49m\u001b[38;5;241;43m=\u001b[39;49m\u001b[43mwalletVincent\u001b[49m\u001b[38;5;241;43m.\u001b[39;49m\u001b[43mpublicKey\u001b[49m\u001b[43m,\u001b[49m\u001b[43m \u001b[49m\u001b[43mnftId\u001b[49m\u001b[38;5;241;43m=\u001b[39;49m\u001b[38;5;124;43m\"\u001b[39;49m\u001b[38;5;124;43mNFT5\u001b[39;49m\u001b[38;5;124;43m\"\u001b[39;49m\u001b[43m)\u001b[49m\n",
      "File \u001b[1;32m~\\OneDrive - JUNIA Grande école d'ingénieurs\\Documents\\ISEN\\M1\\BlockchainAndApplications\\Assignments\\Project\\notebook\\../scripts\\smart_contract.py:58\u001b[0m, in \u001b[0;36mSmartContractDefinition.transfer\u001b[1;34m(self, senderPublicKey, receiverPublicKey, nftId)\u001b[0m\n\u001b[0;32m     56\u001b[0m         \u001b[38;5;28mprint\u001b[39m(\u001b[38;5;124m\"\u001b[39m\u001b[38;5;124mNFT \u001b[39m\u001b[38;5;132;01m{}\u001b[39;00m\u001b[38;5;124m transférée de \u001b[39m\u001b[38;5;132;01m{}\u001b[39;00m\u001b[38;5;124m à \u001b[39m\u001b[38;5;132;01m{}\u001b[39;00m\u001b[38;5;124m\"\u001b[39m\u001b[38;5;241m.\u001b[39mformat(nftId, senderPublicKey, receiverPublicKey))\n\u001b[0;32m     57\u001b[0m     \u001b[38;5;28;01melse\u001b[39;00m:\n\u001b[1;32m---> 58\u001b[0m         \u001b[38;5;28;01mraise\u001b[39;00m \u001b[38;5;167;01mValueError\u001b[39;00m(\u001b[38;5;124m\"\u001b[39m\u001b[38;5;124mNFT n\u001b[39m\u001b[38;5;124m'\u001b[39m\u001b[38;5;124mappartient pas à l\u001b[39m\u001b[38;5;124m'\u001b[39m\u001b[38;5;124mexpéditeur\u001b[39m\u001b[38;5;124m\"\u001b[39m)\n\u001b[0;32m     59\u001b[0m \u001b[38;5;28;01melse\u001b[39;00m:\n\u001b[0;32m     60\u001b[0m     \u001b[38;5;28;01mraise\u001b[39;00m \u001b[38;5;167;01mValueError\u001b[39;00m(\u001b[38;5;124m\"\u001b[39m\u001b[38;5;124mNFT inexistant\u001b[39m\u001b[38;5;124m\"\u001b[39m)\n",
      "\u001b[1;31mValueError\u001b[0m: NFT n'appartient pas à l'expéditeur"
     ]
    }
   ],
   "source": [
    "NFT_contract.transfer(senderPublicKey=walletHenri.publicKey, receiverPublicKey=walletVincent.publicKey, nftId=\"NFT5\")"
   ]
  },
  {
   "cell_type": "code",
   "execution_count": null,
   "id": "6d8e07a5-bdad-44d5-b1e4-ba1c52202ad4",
   "metadata": {},
   "outputs": [],
   "source": [
    "import matplotlib.pyplot as plt\n",
    "from PIL import Image\n",
    "\n",
    "# Affichage des 5 premières images avec leur ID\n",
    "fig, axes = plt.subplots(1, 5, figsize=(15, 5))\n",
    "\n",
    "for idx, (nftId, imagePath) in enumerate(dico_nft.items()):\n",
    "    if idx >= 5:\n",
    "        break\n",
    "    try:\n",
    "        image = Image.open(imagePath)\n",
    "        axes[idx].imshow(image)\n",
    "        axes[idx].set_title(nftId)\n",
    "        axes[idx].axis('off')\n",
    "    except FileNotFoundError:\n",
    "        print(f\"Image non trouvée : {imagePath}\")\n",
    "        axes[idx].set_title(f\"{nftId}\\n[Manquante]\")\n",
    "        axes[idx].axis('off')\n",
    "\n",
    "plt.show()"
   ]
  },
  {
   "cell_type": "code",
   "execution_count": null,
   "id": "7484a3db-d76d-486a-8e92-d2c9475f050b",
   "metadata": {},
   "outputs": [],
   "source": []
  }
 ],
 "metadata": {
  "kernelspec": {
   "display_name": "Python 3 (ipykernel)",
   "language": "python",
   "name": "python3"
  },
  "language_info": {
   "codemirror_mode": {
    "name": "ipython",
    "version": 3
   },
   "file_extension": ".py",
   "mimetype": "text/x-python",
   "name": "python",
   "nbconvert_exporter": "python",
   "pygments_lexer": "ipython3",
   "version": "3.13.1"
  }
 },
 "nbformat": 4,
 "nbformat_minor": 5
}
