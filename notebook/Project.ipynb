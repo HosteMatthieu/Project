{
 "cells": [
  {
   "cell_type": "code",
   "execution_count": 1,
   "id": "273dca40-cad2-4543-8f7d-a0b80794e96e",
   "metadata": {},
   "outputs": [],
   "source": [
    "# Mandatory cell for the rest of this assignment\n",
    "\n",
    "%load_ext autoreload\n",
    "%autoreload 2\n",
    "\n",
    "from sys import path\n",
    "\n",
    "path.append('../scripts')"
   ]
  },
  {
   "cell_type": "code",
   "execution_count": 2,
   "id": "276e8931",
   "metadata": {},
   "outputs": [],
   "source": [
    "# Création du dictionnaire d'NFT\n",
    "dico_nft = {}\n",
    "\n",
    "for i in range(0, 100):\n",
    "    nftId = f\"NFT{i}\"\n",
    "    dico_nft[nftId] = f\"../nft_images/{nftId}.png\""
   ]
  },
  {
   "cell_type": "code",
   "execution_count": 3,
   "id": "80070332-fc91-4d1d-a1f5-a716c2fb1f84",
   "metadata": {},
   "outputs": [
    {
     "data": {
      "text/plain": [
       "'Success'"
      ]
     },
     "execution_count": 3,
     "metadata": {},
     "output_type": "execute_result"
    }
   ],
   "source": [
    "# Import des modules nécessaires\n",
    "from node import BlockchainNode\n",
    "from network import Node\n",
    "from wallet import Wallet\n",
    "from proof_of_stake import ProofOfStake\n",
    "from smart_contract import SmartContractDefinition, SmartContractWritingOperation\n",
    "\n",
    "# Création de plusieurs wallets pour les nœuds de la blockchain\n",
    "walletNode1 = Wallet()\n",
    "walletNode2 = Wallet()\n",
    "walletNode3 = Wallet()\n",
    "\n",
    "# Création d'un wallet propriétaire pour le smart contract\n",
    "walletProprietaire = Wallet()\n",
    "\n",
    "# Création de wallets user :\n",
    "walletMatthieu = Wallet()\n",
    "walletEdouard = Wallet()\n",
    "walletMilo = Wallet()\n",
    "walletHugo = Wallet()\n",
    "walletVincent = Wallet()\n",
    "walletHenri = Wallet()\n",
    "\n",
    "# Initialisation du mécanisme de Proof of Stake avec le premier nœud\n",
    "pos = ProofOfStake(walletNode1.publicKey)\n",
    "\n",
    "# On reset le network\n",
    "Node.reset_network()\n",
    "\n",
    "# On connecte les 3 noeuds au network\n",
    "node1 = BlockchainNode(walletNode1,pos)\n",
    "node2 = BlockchainNode(walletNode2,pos)\n",
    "node3 = BlockchainNode(walletNode3,pos)\n",
    "\n",
    "assert len(Node.get_all_nodes()) == 3\n",
    "\"Success\""
   ]
  },
  {
   "cell_type": "code",
   "execution_count": 4,
   "id": "b23dd8cd-e4ce-44eb-81f5-29fb1228c530",
   "metadata": {},
   "outputs": [
    {
     "name": "stdout",
     "output_type": "stream",
     "text": [
      "Échec du forger du bloc. Diffusion du certificat : <smart_contract.SmartContractDefinition object at 0x000001654E5746E0>\n",
      "Échec du forger du bloc. Diffusion du certificat : <smart_contract.SmartContractDefinition object at 0x000001654E5746E0>\n",
      "Échec du forger du bloc. Diffusion du certificat : <smart_contract.SmartContractDefinition object at 0x000001654E5746E0>\n",
      "[<block.Block object at 0x000001654E4F3380>]\n",
      "[<block.Block object at 0x000001654E42E850>]\n",
      "[<block.Block object at 0x000001654E42ED50>]\n"
     ]
    }
   ],
   "source": [
    "# Exemple de source de code pour le smart contract\n",
    "source_code = \"\"\"\n",
    "class MyNFTContract:\n",
    "    def __init__(self, issuerPublicKey):\n",
    "        self.issuerPublicKey = issuerPublicKey\n",
    "        self.nfts = {}  # Dictionnaire des NFTs\n",
    "\n",
    "    def mint(self, ownerPublicKey, nftId):\n",
    "        if nftId not in self.nfts:\n",
    "            self.nfts[nftId] = ownerPublicKey\n",
    "            print(f\"NFT {nftId} frappé par {ownerPublicKey}\")\n",
    "        else:\n",
    "            raise ValueError(f\"NFT {nftId} déjà existant\")\n",
    "\n",
    "    def transfer(self, senderPublicKey, receiverPublicKey, nftId):\n",
    "        if nftId in self.nfts and self.nfts[nftId] == senderPublicKey:\n",
    "            self.nfts[nftId] = receiverPublicKey\n",
    "            print(f\"NFT {nftId} transféré de {senderPublicKey} à {receiverPublicKey}\")\n",
    "        else:\n",
    "            raise ValueError(\"NFT inexistant ou propriété invalide\")\n",
    "\"\"\"\n",
    "\n",
    "# Création du Smart Contract (définition)\n",
    "NFT_contract = SmartContractDefinition(issuerPublicKey=walletProprietaire.publicKey, sourceCode=source_code, Ntoken=len(dico_nft))\n",
    "\n",
    "# Signer le certificat\n",
    "walletProprietaire.sign(NFT_contract)\n",
    "\n",
    "# Instanciation du Smart Contract\n",
    "NFT_instance = NFT_contract.instantiate_contract()\n",
    "\n",
    "# Ajouter le Smart Contract au premier nœud (node1)\n",
    "node1.new_certificate(NFT_contract) # Ajouter le smart contract au nœud\n",
    "\n",
    "print(node1.blockchain.blockList)\n",
    "print(node2.blockchain.blockList)\n",
    "print(node3.blockchain.blockList)"
   ]
  },
  {
   "cell_type": "code",
   "execution_count": 9,
   "id": "48bb54f7-2933-47f8-880d-c6e772e8ffe8",
   "metadata": {},
   "outputs": [
    {
     "data": {
      "text/plain": [
       "False"
      ]
     },
     "execution_count": 9,
     "metadata": {},
     "output_type": "execute_result"
    }
   ],
   "source": [
    "# On regarde si la période de minage est ouverte\n",
    "NFT_contract.is_minting_open()"
   ]
  },
  {
   "cell_type": "markdown",
   "id": "d811d18a-9a75-46a4-a84a-dd56bb25e02c",
   "metadata": {},
   "source": [
    "La période de minage est fermée donc les utilisateurs ne peuvent pas encore miner leur NFT. On peut quand même faire les tests :"
   ]
  },
  {
   "cell_type": "code",
   "execution_count": 10,
   "id": "fbe878b6-695f-4e1a-ba1c-57bfd09b3568",
   "metadata": {},
   "outputs": [
    {
     "name": "stdout",
     "output_type": "stream",
     "text": [
      "La période de minage est fermée.\n"
     ]
    }
   ],
   "source": [
    "try:\n",
    "    assert NFT_contract.mint(ownerPublicKey=walletEdouard.publicKey, nftId=\"NFT1\")\n",
    "except ValueError as error:\n",
    "    print(error)"
   ]
  },
  {
   "cell_type": "markdown",
   "id": "c76ab606-020a-4f62-bd37-9ac3726ee9b0",
   "metadata": {},
   "source": [
    "Il n'y a que le propriétaire du smart contract qui peut activer la période de minage. Ici c'est Alice !"
   ]
  },
  {
   "cell_type": "code",
   "execution_count": 11,
   "id": "a170ffd8-96d9-4a3d-9cad-11bb80fe6da9",
   "metadata": {},
   "outputs": [
    {
     "name": "stdout",
     "output_type": "stream",
     "text": [
      "Période de minage ouverte pendant 1000 secondes\n"
     ]
    }
   ],
   "source": [
    "NFT_contract.open_minting(walletProprietaire.publicKey, 1000)"
   ]
  },
  {
   "cell_type": "code",
   "execution_count": 12,
   "id": "c377b239-88bb-4ab3-a547-f3b419693170",
   "metadata": {},
   "outputs": [
    {
     "data": {
      "text/plain": [
       "'Minting open!'"
      ]
     },
     "execution_count": 12,
     "metadata": {},
     "output_type": "execute_result"
    }
   ],
   "source": [
    "assert NFT_contract.is_minting_open()\n",
    "\"Minting open!\""
   ]
  },
  {
   "cell_type": "markdown",
   "id": "72f45806-6a24-4907-a1ab-9bcae3473238",
   "metadata": {},
   "source": [
    "Maintenant qu'on a ouvert la periode de minage les utilisateurs peuvent miner des NFT"
   ]
  },
  {
   "cell_type": "code",
   "execution_count": 13,
   "id": "2e1abcaa-9f7a-40a5-a6f6-c405605b9046",
   "metadata": {},
   "outputs": [
    {
     "name": "stdout",
     "output_type": "stream",
     "text": [
      "NFT NFT1 minée par 30820122300d06092a864886f70d01010105000382010f003082010a0282010100b389b877a0d5fbcc0db4ea7169f1bb2f7f06724d6310f4a1935261cd0d87d2aeacbaa1b0e351509927cd7908ef6c2055b5065bba15870e01009f8568af9c1bf6b34fb9339c2fd31fb6fb649ce91ad65ba85d8ac0b70e51b95572fa4297e2bba569f4f1a4ce27559b2e3f3675df875625532fee3f08379f493ad2e56271427e140453ff59a7166a7dd47dcee2689a9bb514405eac0fce6a54cfab69a5a85bb5df3d54fd6cf8782218fd5b08d06763bc4fcfc36df222cfb97c4ac73af533c44fa021074f3e7a6f0e28d991ee689a614eeea3585186628acd0e9121aa23fa4d719b818c395de06e3f2ab16116a5e42b2db4459ad72119f3176c76ab664f52fe15f30203010001\n",
      "{'NFT1': '30820122300d06092a864886f70d01010105000382010f003082010a0282010100b389b877a0d5fbcc0db4ea7169f1bb2f7f06724d6310f4a1935261cd0d87d2aeacbaa1b0e351509927cd7908ef6c2055b5065bba15870e01009f8568af9c1bf6b34fb9339c2fd31fb6fb649ce91ad65ba85d8ac0b70e51b95572fa4297e2bba569f4f1a4ce27559b2e3f3675df875625532fee3f08379f493ad2e56271427e140453ff59a7166a7dd47dcee2689a9bb514405eac0fce6a54cfab69a5a85bb5df3d54fd6cf8782218fd5b08d06763bc4fcfc36df222cfb97c4ac73af533c44fa021074f3e7a6f0e28d991ee689a614eeea3585186628acd0e9121aa23fa4d719b818c395de06e3f2ab16116a5e42b2db4459ad72119f3176c76ab664f52fe15f30203010001'}\n"
     ]
    }
   ],
   "source": [
    "NFT_contract.mint(ownerPublicKey=walletEdouard.publicKey, nftId=\"NFT1\")\n",
    "print(NFT_contract.owners)"
   ]
  },
  {
   "cell_type": "code",
   "execution_count": 14,
   "id": "4923a809-60b3-4a3c-b340-e6a4239be343",
   "metadata": {},
   "outputs": [
    {
     "ename": "AttributeError",
     "evalue": "'SmartContractDefinition' object has no attribute 'showNFT'",
     "output_type": "error",
     "traceback": [
      "\u001b[1;31m---------------------------------------------------------------------------\u001b[0m",
      "\u001b[1;31mAttributeError\u001b[0m                            Traceback (most recent call last)",
      "Cell \u001b[1;32mIn[14], line 1\u001b[0m\n\u001b[1;32m----> 1\u001b[0m \u001b[43mNFT_contract\u001b[49m\u001b[38;5;241;43m.\u001b[39;49m\u001b[43mshowNFT\u001b[49m(ownerNFT\u001b[38;5;241m=\u001b[39mwalletEdouard\u001b[38;5;241m.\u001b[39mpublicKey)\n",
      "\u001b[1;31mAttributeError\u001b[0m: 'SmartContractDefinition' object has no attribute 'showNFT'"
     ]
    }
   ],
   "source": [
    "NFT_contract.showNFT(ownerNFT=walletEdouard.publicKey)"
   ]
  },
  {
   "cell_type": "code",
   "execution_count": null,
   "id": "6495b121-f70f-44e6-a66a-5e04404a278e",
   "metadata": {},
   "outputs": [],
   "source": [
    "NFT_contract.mint(ownerPublicKey=walletMatthieu.publicKey, nftId=\"NFT2\")\n",
    "NFT_contract.mint(ownerPublicKey=walletHugo.publicKey, nftId=\"NFT3\")\n",
    "NFT_contract.mint(ownerPublicKey=walletMilo.publicKey, nftId=\"NFT4\")\n",
    "NFT_contract.mint(ownerPublicKey=walletHenri.publicKey, nftId=\"NFT5\")"
   ]
  },
  {
   "cell_type": "markdown",
   "id": "796fb7b4-2aa2-48c9-8915-bfd5bf8ff84e",
   "metadata": {},
   "source": [
    "On peut changer le propriétaire d'un NFT si c'est le propriétaire de ce dernier qui le demande"
   ]
  },
  {
   "cell_type": "code",
   "execution_count": null,
   "id": "6548c4f1-4a14-4cba-aa80-9f9dff878523",
   "metadata": {},
   "outputs": [],
   "source": [
    "assert NFT_contract.transfer(senderPublicKey=walletHenri.publicKey, receiverPublicKey=walletVincent.publicKey, nftId=\"NFT5\")"
   ]
  },
  {
   "cell_type": "code",
   "execution_count": null,
   "id": "b9dde7b4-7465-4060-8dc2-e86be2b6cbb1",
   "metadata": {},
   "outputs": [],
   "source": [
    "try :\n",
    "    assert NFT_contract.transfer(senderPublicKey=walletHenri.publicKey, receiverPublicKey=walletVincent.publicKey, nftId=\"NFT5\")\n",
    "except ValueError as error:\n",
    "    print(error)"
   ]
  },
  {
   "cell_type": "code",
   "execution_count": null,
   "id": "6d8e07a5-bdad-44d5-b1e4-ba1c52202ad4",
   "metadata": {},
   "outputs": [],
   "source": [
    "NFT_contract.showNFT(ownerNFT=walletMatthieu.publicKey)"
   ]
  },
  {
   "cell_type": "code",
   "execution_count": null,
   "id": "7484a3db-d76d-486a-8e92-d2c9475f050b",
   "metadata": {},
   "outputs": [],
   "source": []
  }
 ],
 "metadata": {
  "kernelspec": {
   "display_name": "Python 3 (ipykernel)",
   "language": "python",
   "name": "python3"
  },
  "language_info": {
   "codemirror_mode": {
    "name": "ipython",
    "version": 3
   },
   "file_extension": ".py",
   "mimetype": "text/x-python",
   "name": "python",
   "nbconvert_exporter": "python",
   "pygments_lexer": "ipython3",
   "version": "3.13.1"
  }
 },
 "nbformat": 4,
 "nbformat_minor": 5
}
