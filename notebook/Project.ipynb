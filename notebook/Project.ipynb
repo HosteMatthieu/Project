{
 "cells": [
  {
   "cell_type": "code",
   "execution_count": null,
   "id": "273dca40-cad2-4543-8f7d-a0b80794e96e",
   "metadata": {},
   "outputs": [
    {
     "name": "stdout",
     "output_type": "stream",
     "text": [
      "The autoreload extension is already loaded. To reload it, use:\n",
      "  %reload_ext autoreload\n"
     ]
    }
   ],
   "source": [
    "# Mandatory cell for the rest of this assignment\n",
    "\n",
    "%load_ext autoreload\n",
    "%autoreload 2\n",
    "\n",
    "from sys import path\n",
    "\n",
    "path.append('../scripts')"
   ]
  },
  {
   "cell_type": "code",
   "execution_count": null,
   "id": "276e8931",
   "metadata": {},
   "outputs": [],
   "source": [
    "import matplotlib.pyplot as plt\n",
    "from PIL import Image\n",
    "\n",
    "list_nft = {}\n",
    "\n",
    "for i in range(0, 100):\n",
    "    nftId = f\"NFT{i}\"\n",
    "    list_nft[nftId] = f\"../nft_images/{nftId}.png\"\n",
    "\n",
    "# Affichage des 5 premières images avec leur ID\n",
    "fig, axes = plt.subplots(1, 5, figsize=(15, 5))\n",
    "\n",
    "for idx, (nftId, imagePath) in enumerate(list_nft.items()):\n",
    "    if idx >= 5:\n",
    "        break\n",
    "    try:\n",
    "        image = Image.open(imagePath)\n",
    "        axes[idx].imshow(image)\n",
    "        axes[idx].set_title(nftId)\n",
    "        axes[idx].axis('off')\n",
    "    except FileNotFoundError:\n",
    "        print(f\"Image non trouvée : {imagePath}\")\n",
    "        axes[idx].set_title(f\"{nftId}\\n[Manquante]\")\n",
    "        axes[idx].axis('off')\n",
    "\n",
    "plt.show()"
   ]
  },
  {
   "cell_type": "code",
   "execution_count": null,
   "id": "80070332-fc91-4d1d-a1f5-a716c2fb1f84",
   "metadata": {},
   "outputs": [
    {
     "data": {
      "text/plain": [
       "'Success'"
      ]
     },
     "execution_count": 124,
     "metadata": {},
     "output_type": "execute_result"
    }
   ],
   "source": [
    "# Import des modules nécessaires\n",
    "from node import BlockchainNode\n",
    "from network import Node\n",
    "from wallet import Wallet\n",
    "from proof_of_stake import ProofOfStake\n",
    "from smart_contract import SmartContractDefinition, SmartContractWritingOperation\n",
    "\n",
    "# Création de plusieurs wallets pour les nœuds de la blockchain\n",
    "walletNode1 = Wallet()\n",
    "walletNode2 = Wallet()\n",
    "walletNode3 = Wallet()\n",
    "\n",
    "# Création d'un wallet propriétaire pour le smart contract\n",
    "walletProprietaire = Wallet()\n",
    "\n",
    "#Création de wallets user :\n",
    "walletMatthieu = Wallet()\n",
    "walletEdouard = Wallet()\n",
    "walletMilo = Wallet()\n",
    "walletHugo = Wallet()\n",
    "walletVincent = Wallet()\n",
    "walletHenri = Wallet()\n",
    "\n",
    "# Initialisation du mécanisme de Proof of Stake avec le premier nœud\n",
    "pos = ProofOfStake(walletNode1.publicKey)\n",
    "\n",
    "#On reset le network\n",
    "Node.reset_network()\n",
    "\n",
    "#On connecte les 3 noeuds au network\n",
    "node1 = BlockchainNode(walletNode1,pos)\n",
    "node2 = BlockchainNode(walletNode2,pos)\n",
    "node3 = BlockchainNode(walletNode3,pos)\n",
    "\n",
    "assert len(Node.get_all_nodes())==3\n",
    "\"Success\""
   ]
  },
  {
   "cell_type": "code",
   "execution_count": null,
   "id": "b23dd8cd-e4ce-44eb-81f5-29fb1228c530",
   "metadata": {},
   "outputs": [
    {
     "name": "stdout",
     "output_type": "stream",
     "text": [
      "Échec du forger du bloc. Diffusion du certificat : <smart_contract.SmartContractDefinition object at 0x0000027244D6F140>\n",
      "[<block.Block object at 0x0000027244E78E60>]\n",
      "[<block.Block object at 0x0000027244E78140>]\n",
      "[<block.Block object at 0x0000027244E7A7B0>]\n"
     ]
    }
   ],
   "source": [
    "# Exemple de source de code pour le smart contract\n",
    "source_code = \"\"\"\n",
    "class MyNFTContract:\n",
    "    def __init__(self, issuerPublicKey):\n",
    "        self.issuerPublicKey = issuerPublicKey\n",
    "        self.nfts = {}  # Dictionnaire des NFTs\n",
    "\n",
    "    def mint(self, ownerPublicKey, nftId):\n",
    "        if nftId not in self.nfts:\n",
    "            self.nfts[nftId] = ownerPublicKey\n",
    "            print(f\"NFT {nftId} frappé par {ownerPublicKey}\")\n",
    "        else:\n",
    "            raise ValueError(f\"NFT {nftId} déjà existant\")\n",
    "\n",
    "    def transfer(self, senderPublicKey, receiverPublicKey, nftId):\n",
    "        if nftId in self.nfts and self.nfts[nftId] == senderPublicKey:\n",
    "            self.nfts[nftId] = receiverPublicKey\n",
    "            print(f\"NFT {nftId} transféré de {senderPublicKey} à {receiverPublicKey}\")\n",
    "        else:\n",
    "            raise ValueError(\"NFT inexistant ou propriété invalide\")\n",
    "\"\"\"\n",
    "\n",
    "# Création du Smart Contract (définition)\n",
    "NFT_contract = SmartContractDefinition(issuerPublicKey=walletProprietaire.publicKey, sourceCode=source_code, Ntoken=5)\n",
    "\n",
    "# Signer le certificat\n",
    "walletProprietaire.sign(NFT_contract)\n",
    "\n",
    "# Instanciation du Smart Contract\n",
    "NFT_instance = NFT_contract.instantiate_contract()\n",
    "\n",
    "# Ajouter le Smart Contract au premier nœud (node1)\n",
    "node1.new_certificate(NFT_contract) # Ajouter le smart contract au nœud\n",
    "\n",
    "print(node1.blockchain.blockList)\n",
    "print(node2.blockchain.blockList)\n",
    "print(node3.blockchain.blockList)"
   ]
  },
  {
   "cell_type": "code",
   "execution_count": null,
   "id": "48bb54f7-2933-47f8-880d-c6e772e8ffe8",
   "metadata": {},
   "outputs": [
    {
     "data": {
      "text/plain": [
       "False"
      ]
     },
     "execution_count": 126,
     "metadata": {},
     "output_type": "execute_result"
    }
   ],
   "source": [
    "#On vérifie si la période de minage est ouverte\n",
    "NFT_contract.is_minting_open()"
   ]
  },
  {
   "cell_type": "markdown",
   "id": "d811d18a-9a75-46a4-a84a-dd56bb25e02c",
   "metadata": {},
   "source": [
    "La période de minage est fermée donn les utilisateurs ne peuvent pas encore miner leur NFT. On peut quand même faire les tests"
   ]
  },
  {
   "cell_type": "code",
   "execution_count": null,
   "id": "fbe878b6-695f-4e1a-ba1c-57bfd09b3568",
   "metadata": {},
   "outputs": [
    {
     "ename": "ValueError",
     "evalue": "La période de minage est fermée.",
     "output_type": "error",
     "traceback": [
      "\u001b[1;31m---------------------------------------------------------------------------\u001b[0m",
      "\u001b[1;31mValueError\u001b[0m                                Traceback (most recent call last)",
      "Cell \u001b[1;32mIn[127], line 1\u001b[0m\n\u001b[1;32m----> 1\u001b[0m \u001b[43mNFT_contract\u001b[49m\u001b[38;5;241;43m.\u001b[39;49m\u001b[43mmint\u001b[49m\u001b[43m(\u001b[49m\u001b[43mownerPublicKey\u001b[49m\u001b[38;5;241;43m=\u001b[39;49m\u001b[43mwalletEdouard\u001b[49m\u001b[38;5;241;43m.\u001b[39;49m\u001b[43mpublicKey\u001b[49m\u001b[43m,\u001b[49m\u001b[43m \u001b[49m\u001b[43mnftId\u001b[49m\u001b[38;5;241;43m=\u001b[39;49m\u001b[38;5;124;43m\"\u001b[39;49m\u001b[38;5;124;43mNFT1\u001b[39;49m\u001b[38;5;124;43m\"\u001b[39;49m\u001b[43m)\u001b[49m\n",
      "File \u001b[1;32m~\\Documents\\Blockchain\\Assignments\\Project\\notebook\\../scripts\\smart_contract.py:24\u001b[0m, in \u001b[0;36mSmartContractDefinition.mint\u001b[1;34m(self, ownerPublicKey, nftId)\u001b[0m\n\u001b[0;32m     22\u001b[0m \u001b[38;5;28;01mdef\u001b[39;00m\u001b[38;5;250m \u001b[39m\u001b[38;5;21mmint\u001b[39m(\u001b[38;5;28mself\u001b[39m, ownerPublicKey, nftId):\n\u001b[0;32m     23\u001b[0m     \u001b[38;5;28;01mif\u001b[39;00m \u001b[38;5;28mself\u001b[39m\u001b[38;5;241m.\u001b[39mis_minting_open() \u001b[38;5;241m==\u001b[39m \u001b[38;5;28;01mFalse\u001b[39;00m:\n\u001b[1;32m---> 24\u001b[0m         \u001b[38;5;28;01mraise\u001b[39;00m \u001b[38;5;167;01mValueError\u001b[39;00m(\u001b[38;5;124m\"\u001b[39m\u001b[38;5;124mLa période de minage est fermée.\u001b[39m\u001b[38;5;124m\"\u001b[39m)\n\u001b[0;32m     26\u001b[0m     \u001b[38;5;28;01mif\u001b[39;00m \u001b[38;5;28mlen\u001b[39m(\u001b[38;5;28mself\u001b[39m\u001b[38;5;241m.\u001b[39mowners) \u001b[38;5;241m<\u001b[39m \u001b[38;5;28mself\u001b[39m\u001b[38;5;241m.\u001b[39mNtoken: \u001b[38;5;66;03m#si on a pas atteint la limite\u001b[39;00m\n\u001b[0;32m     27\u001b[0m         \u001b[38;5;28;01mif\u001b[39;00m nftId \u001b[38;5;129;01mnot\u001b[39;00m \u001b[38;5;129;01min\u001b[39;00m \u001b[38;5;28mself\u001b[39m\u001b[38;5;241m.\u001b[39mowners: \u001b[38;5;66;03m#si l'id n'existe pas\u001b[39;00m\n",
      "\u001b[1;31mValueError\u001b[0m: La période de minage est fermée."
     ]
    }
   ],
   "source": [
    "NFT_contract.mint(ownerPublicKey=walletEdouard.publicKey, nftId=\"NFT1\")"
   ]
  },
  {
   "cell_type": "markdown",
   "id": "c76ab606-020a-4f62-bd37-9ac3726ee9b0",
   "metadata": {},
   "source": [
    "Il n'y a que le propriétaire du smart contract qui peut activer la période de minage. Ici c'est Alice !"
   ]
  },
  {
   "cell_type": "code",
   "execution_count": null,
   "id": "a170ffd8-96d9-4a3d-9cad-11bb80fe6da9",
   "metadata": {},
   "outputs": [
    {
     "name": "stdout",
     "output_type": "stream",
     "text": [
      "Période de minage ouverte pendant 1000 secondes\n"
     ]
    }
   ],
   "source": [
    "NFT_contract.open_minting(walletProprietaire.publicKey,1000)"
   ]
  },
  {
   "cell_type": "code",
   "execution_count": null,
   "id": "c377b239-88bb-4ab3-a547-f3b419693170",
   "metadata": {},
   "outputs": [
    {
     "data": {
      "text/plain": [
       "True"
      ]
     },
     "execution_count": 129,
     "metadata": {},
     "output_type": "execute_result"
    }
   ],
   "source": [
    "NFT_contract.is_minting_open()"
   ]
  },
  {
   "cell_type": "markdown",
   "id": "72f45806-6a24-4907-a1ab-9bcae3473238",
   "metadata": {},
   "source": [
    "Maintenant qu'on a ouvert la periode de minage les utilisateurs peuvent miner des NFT"
   ]
  },
  {
   "cell_type": "code",
   "execution_count": null,
   "id": "2e1abcaa-9f7a-40a5-a6f6-c405605b9046",
   "metadata": {},
   "outputs": [
    {
     "name": "stdout",
     "output_type": "stream",
     "text": [
      "NFT NFT1 frappée par 30820122300d06092a864886f70d01010105000382010f003082010a0282010100da4b264bba1456417e86fb0cabc1f23fdaef4df7ffc1dca355419528318814a69f589ec63fa2a0b302343058d8fe3d802005791b564907f5faff4d308352b302c629e9283396a35b5869a02a6bf938a48ce5ebf720fd820662759c1ef4980642d919990edca849bc9c87b2b3b4b7276c585ab2d9f25b21fc4c15d7c96bac0f97cb6a3e8bc3457ca40bbecc7e118324d5454a38c48ea2ba4a21093bed2dcf583d6a0e516c95485a699117e808f7a58ccae4806337f860f759683884478e226da34bf68cd229bc04d50345575ca6b4efda24fdbb380f602a1d93662b38fc2c459b6adef7041d2d483d51df9f03b11a99143f1e2a6b1e7ef901e939f40ff3cb2bf30203010001\n",
      "{'NFT1': '30820122300d06092a864886f70d01010105000382010f003082010a0282010100da4b264bba1456417e86fb0cabc1f23fdaef4df7ffc1dca355419528318814a69f589ec63fa2a0b302343058d8fe3d802005791b564907f5faff4d308352b302c629e9283396a35b5869a02a6bf938a48ce5ebf720fd820662759c1ef4980642d919990edca849bc9c87b2b3b4b7276c585ab2d9f25b21fc4c15d7c96bac0f97cb6a3e8bc3457ca40bbecc7e118324d5454a38c48ea2ba4a21093bed2dcf583d6a0e516c95485a699117e808f7a58ccae4806337f860f759683884478e226da34bf68cd229bc04d50345575ca6b4efda24fdbb380f602a1d93662b38fc2c459b6adef7041d2d483d51df9f03b11a99143f1e2a6b1e7ef901e939f40ff3cb2bf30203010001'}\n"
     ]
    }
   ],
   "source": [
    "NFT_contract.mint(ownerPublicKey=walletEdouard.publicKey, nftId=\"NFT1\")\n",
    "print(NFT_contract.owners)"
   ]
  },
  {
   "cell_type": "code",
   "execution_count": null,
   "id": "6495b121-f70f-44e6-a66a-5e04404a278e",
   "metadata": {},
   "outputs": [
    {
     "name": "stdout",
     "output_type": "stream",
     "text": [
      "NFT NFT2 frappée par 30820122300d06092a864886f70d01010105000382010f003082010a02820101008fbe6463901abbaff1a379d2a01759fdd1cdad3fd6b0aeeed754e79e160bbcbe69a838fed3fc5ccb51222f0b720d2a5ad5ab045432d98fcb43729ffad34dcded482d773043dd1c31b3a8f1916fabf6d3c7a49782848ad2c866cbb3665cb16a226790d16e91cfc9ede254848fdd893d1148017c7dfdfcbe8b95457d9446c3fdb3b2e8337a809f17bd0a9f90da0d83722df1e7b8e6285ec0a8e0751da2376c106d90b9afdbfec76001b12c6ff5cd482dd90dfc3d80beb6a255ab452910f5a4b46b6756b3395a8c95d0f773822f12fd6d0be40920b72e060a5819d3532a3bc75a7a0aaaeed880a55720407c518cbf975db94a67e95f9f68e1d8160a93ce972f7b9f0203010001\n",
      "NFT NFT3 frappée par 30820122300d06092a864886f70d01010105000382010f003082010a0282010100c710b9a96d9a4447ba04ae12ce31f7b8570bfc39c16e4861494dcc4f13152816396c25bed928bbd1a22aa3cd9ba90c05fc78dc95cfe05211ac2ec675b741a0f86bf4b7a7f328e775bc3f496468c924ce4f85aa971535e5add95619798d2d41b30bd8004ec25f85773e3e91be5c1844859f61d1f8f14a67ce1ab169f9729e4acaa61cce5aa1b5eb21a7d420c75ddba3054a006d24315e3110ba344118b4ac2c1c6d82b1e30e7778405ce4e6920acaa875f5fa7dea967ba26fdb84036a24b232c50c92c3f3653e3f9d44899621c02be4c4a575c385de5738dcc382564331bf0b76bd9582ce38cefbfcdf2d536ea3ddd5d6243657c9fb24e8ca087a1808135e37ab0203010001\n",
      "NFT NFT4 frappée par 30820122300d06092a864886f70d01010105000382010f003082010a0282010100ce17ef2131ee578ba0cce757c5d2d35b57a3112c90cd20356a29072ff811d299cae9c5218b20c219c7469ec773742d318b2db53916164ed720e5a7544f4439ff8bf2072d88a9d490c61477d529e25385137d254a88700bce7d2d75eef5723d4f032a5def986f4a981e8f8e72eb28fe30d64b35f6e1fd8241a922db99bf5b5f0b3921ce847601f0c23d26f2a9a61a9dd042a16b10b1775ca5b4c827019d7be0b434f9e754155aa5e4652cc9e2d80ded185599323e2c7ccecc8fe42ae145cdfe35ac838479a75683aba9f6720e1c0b50e21daa9416162d334d4f9d635d6f286354733ff4af2b92b09e26b4a84ff16b1f9e8e035e3053ae5c0d81e2c3b899ff77730203010001\n",
      "NFT NFT5 frappée par 30820122300d06092a864886f70d01010105000382010f003082010a0282010100cc9ec47411fc31907c6ce0436e67709abc86eadaef3d5ca3af18c49ab413c6b8f3ca9725004bdde21060742e0dd750e239e4aeaf73e363818ad51a9d0d6259c2f05884932725035f04e4704fe5c754465596fdcf7156be330b90f63b371da66e1c501331298893e8dbba7e911e12d28c213a8b87e8c5872b079ce64669038b65917502a38ff8d9a3c67b60904837856b739e5a559dff44cca51c7a2ab8862f5ff0c82e1a68f2ce825f89f0959c179b5df741cc2827edc470a684ea59e8a6d9315467bc0178691672326deeee820e773c88ef1a0c7fecacff5b009c934a27473aba580378f039ff16dee4a89b7debfd9e5a108e659b542f3c767a02225a41d0630203010001\n"
     ]
    }
   ],
   "source": [
    "NFT_contract.mint(ownerPublicKey=walletMatthieu.publicKey, nftId=\"NFT2\")\n",
    "NFT_contract.mint(ownerPublicKey=walletHugo.publicKey, nftId=\"NFT3\")\n",
    "NFT_contract.mint(ownerPublicKey=walletMilo.publicKey, nftId=\"NFT4\")\n",
    "NFT_contract.mint(ownerPublicKey=walletHenri.publicKey, nftId=\"NFT5\")"
   ]
  },
  {
   "cell_type": "code",
   "execution_count": null,
   "id": "70bcaf1c-7c6a-4670-a5a1-02edb6881bbb",
   "metadata": {},
   "outputs": [
    {
     "ename": "ValueError",
     "evalue": "Nombre de token maximal atteint",
     "output_type": "error",
     "traceback": [
      "\u001b[1;31m---------------------------------------------------------------------------\u001b[0m",
      "\u001b[1;31mValueError\u001b[0m                                Traceback (most recent call last)",
      "Cell \u001b[1;32mIn[133], line 1\u001b[0m\n\u001b[1;32m----> 1\u001b[0m \u001b[43mNFT_contract\u001b[49m\u001b[38;5;241;43m.\u001b[39;49m\u001b[43mmint\u001b[49m\u001b[43m(\u001b[49m\u001b[43mownerPublicKey\u001b[49m\u001b[38;5;241;43m=\u001b[39;49m\u001b[43mwalletVincent\u001b[49m\u001b[38;5;241;43m.\u001b[39;49m\u001b[43mpublicKey\u001b[49m\u001b[43m,\u001b[49m\u001b[43m \u001b[49m\u001b[43mnftId\u001b[49m\u001b[38;5;241;43m=\u001b[39;49m\u001b[38;5;124;43m\"\u001b[39;49m\u001b[38;5;124;43mNFT6\u001b[39;49m\u001b[38;5;124;43m\"\u001b[39;49m\u001b[43m)\u001b[49m\n",
      "File \u001b[1;32m~\\Documents\\Blockchain\\Assignments\\Project\\notebook\\../scripts\\smart_contract.py:33\u001b[0m, in \u001b[0;36mSmartContractDefinition.mint\u001b[1;34m(self, ownerPublicKey, nftId)\u001b[0m\n\u001b[0;32m     31\u001b[0m         \u001b[38;5;28;01mraise\u001b[39;00m \u001b[38;5;167;01mValueError\u001b[39;00m(\u001b[38;5;124m\"\u001b[39m\u001b[38;5;124mNFT déjà existant\u001b[39m\u001b[38;5;124m\"\u001b[39m)\n\u001b[0;32m     32\u001b[0m \u001b[38;5;28;01melse\u001b[39;00m:\n\u001b[1;32m---> 33\u001b[0m     \u001b[38;5;28;01mraise\u001b[39;00m \u001b[38;5;167;01mValueError\u001b[39;00m(\u001b[38;5;124m\"\u001b[39m\u001b[38;5;124mNombre de token maximal atteint\u001b[39m\u001b[38;5;124m\"\u001b[39m)\n",
      "\u001b[1;31mValueError\u001b[0m: Nombre de token maximal atteint"
     ]
    }
   ],
   "source": [
    "NFT_contract.mint(ownerPublicKey=walletVincent.publicKey, nftId=\"NFT6\")"
   ]
  },
  {
   "cell_type": "markdown",
   "id": "796fb7b4-2aa2-48c9-8915-bfd5bf8ff84e",
   "metadata": {},
   "source": [
    "Ici on a atteind le nombre maximal de token donc on ne peut plus acheter de NFT\n",
    "\n",
    "On peut changer le propriétaire d'un NFT si c'est le propriétaire de ce dernier qui le demande"
   ]
  },
  {
   "cell_type": "code",
   "execution_count": null,
   "id": "6548c4f1-4a14-4cba-aa80-9f9dff878523",
   "metadata": {},
   "outputs": [
    {
     "name": "stdout",
     "output_type": "stream",
     "text": [
      "NFT NFT5 transférée de 30820122300d06092a864886f70d01010105000382010f003082010a0282010100cc9ec47411fc31907c6ce0436e67709abc86eadaef3d5ca3af18c49ab413c6b8f3ca9725004bdde21060742e0dd750e239e4aeaf73e363818ad51a9d0d6259c2f05884932725035f04e4704fe5c754465596fdcf7156be330b90f63b371da66e1c501331298893e8dbba7e911e12d28c213a8b87e8c5872b079ce64669038b65917502a38ff8d9a3c67b60904837856b739e5a559dff44cca51c7a2ab8862f5ff0c82e1a68f2ce825f89f0959c179b5df741cc2827edc470a684ea59e8a6d9315467bc0178691672326deeee820e773c88ef1a0c7fecacff5b009c934a27473aba580378f039ff16dee4a89b7debfd9e5a108e659b542f3c767a02225a41d0630203010001 à 30820122300d06092a864886f70d01010105000382010f003082010a0282010100b999e22954225b2da49aa89ede0469a52b1bcb45738f00db5fb03c2fe6beb313b0ec881984ddaf6ca554e559e64c5c3bbc0135292f92124af2829b778d62958a0a16f3619fadcbe9c8747576b64cedab6d65d18c1d7faa294b1fc5b6d32fffed6ae83bf4602c35fc6e73936852cd357034b9e0fbefe1abea4d4661d70aafc62dcc1ec347699d6e11bafa09c0d98064e8b53400749fb4b0cc5e5b79749dbecd8e8cd66afebfe5d072138c15e4806e2448032293e0228af3e4568d6c280ce284530584ea631a20c99f2cc8e51cead998834ab8b934806b6a608c50620d376341e8a426decb70bd1ddfd3d7d535477888772a69ad7107a056974d987c9222f0b1670203010001\n"
     ]
    }
   ],
   "source": [
    "NFT_contract.transfer(senderPublicKey=walletHenri.publicKey, receiverPublicKey=walletVincent.publicKey, nftId=\"NFT5\")"
   ]
  },
  {
   "cell_type": "code",
   "execution_count": null,
   "id": "b9dde7b4-7465-4060-8dc2-e86be2b6cbb1",
   "metadata": {},
   "outputs": [
    {
     "ename": "ValueError",
     "evalue": "NFT n'appartient pas à l'expéditeur",
     "output_type": "error",
     "traceback": [
      "\u001b[1;31m---------------------------------------------------------------------------\u001b[0m",
      "\u001b[1;31mValueError\u001b[0m                                Traceback (most recent call last)",
      "Cell \u001b[1;32mIn[135], line 1\u001b[0m\n\u001b[1;32m----> 1\u001b[0m \u001b[43mNFT_contract\u001b[49m\u001b[38;5;241;43m.\u001b[39;49m\u001b[43mtransfer\u001b[49m\u001b[43m(\u001b[49m\u001b[43msenderPublicKey\u001b[49m\u001b[38;5;241;43m=\u001b[39;49m\u001b[43mwalletHenri\u001b[49m\u001b[38;5;241;43m.\u001b[39;49m\u001b[43mpublicKey\u001b[49m\u001b[43m,\u001b[49m\u001b[43m \u001b[49m\u001b[43mreceiverPublicKey\u001b[49m\u001b[38;5;241;43m=\u001b[39;49m\u001b[43mwalletVincent\u001b[49m\u001b[38;5;241;43m.\u001b[39;49m\u001b[43mpublicKey\u001b[49m\u001b[43m,\u001b[49m\u001b[43m \u001b[49m\u001b[43mnftId\u001b[49m\u001b[38;5;241;43m=\u001b[39;49m\u001b[38;5;124;43m\"\u001b[39;49m\u001b[38;5;124;43mNFT5\u001b[39;49m\u001b[38;5;124;43m\"\u001b[39;49m\u001b[43m)\u001b[49m\n",
      "File \u001b[1;32m~\\Documents\\Blockchain\\Assignments\\Project\\notebook\\../scripts\\smart_contract.py:58\u001b[0m, in \u001b[0;36mSmartContractDefinition.transfer\u001b[1;34m(self, senderPublicKey, receiverPublicKey, nftId)\u001b[0m\n\u001b[0;32m     56\u001b[0m         \u001b[38;5;28mprint\u001b[39m(\u001b[38;5;124m\"\u001b[39m\u001b[38;5;124mNFT \u001b[39m\u001b[38;5;132;01m{}\u001b[39;00m\u001b[38;5;124m transférée de \u001b[39m\u001b[38;5;132;01m{}\u001b[39;00m\u001b[38;5;124m à \u001b[39m\u001b[38;5;132;01m{}\u001b[39;00m\u001b[38;5;124m\"\u001b[39m\u001b[38;5;241m.\u001b[39mformat(nftId, senderPublicKey, receiverPublicKey))\n\u001b[0;32m     57\u001b[0m     \u001b[38;5;28;01melse\u001b[39;00m:\n\u001b[1;32m---> 58\u001b[0m         \u001b[38;5;28;01mraise\u001b[39;00m \u001b[38;5;167;01mValueError\u001b[39;00m(\u001b[38;5;124m\"\u001b[39m\u001b[38;5;124mNFT n\u001b[39m\u001b[38;5;124m'\u001b[39m\u001b[38;5;124mappartient pas à l\u001b[39m\u001b[38;5;124m'\u001b[39m\u001b[38;5;124mexpéditeur\u001b[39m\u001b[38;5;124m\"\u001b[39m)\n\u001b[0;32m     59\u001b[0m \u001b[38;5;28;01melse\u001b[39;00m:\n\u001b[0;32m     60\u001b[0m     \u001b[38;5;28;01mraise\u001b[39;00m \u001b[38;5;167;01mValueError\u001b[39;00m(\u001b[38;5;124m\"\u001b[39m\u001b[38;5;124mNFT inexistant\u001b[39m\u001b[38;5;124m\"\u001b[39m)\n",
      "\u001b[1;31mValueError\u001b[0m: NFT n'appartient pas à l'expéditeur"
     ]
    }
   ],
   "source": [
    "NFT_contract.transfer(senderPublicKey=walletHenri.publicKey, receiverPublicKey=walletVincent.publicKey, nftId=\"NFT5\")"
   ]
  },
  {
   "cell_type": "code",
   "execution_count": null,
   "id": "6d8e07a5-bdad-44d5-b1e4-ba1c52202ad4",
   "metadata": {},
   "outputs": [],
   "source": []
  }
 ],
 "metadata": {
  "kernelspec": {
   "display_name": "Python 3 (ipykernel)",
   "language": "python",
   "name": "python3"
  },
  "language_info": {
   "codemirror_mode": {
    "name": "ipython",
    "version": 3
   },
   "file_extension": ".py",
   "mimetype": "text/x-python",
   "name": "python",
   "nbconvert_exporter": "python",
   "pygments_lexer": "ipython3",
   "version": "3.12.3"
  }
 },
 "nbformat": 4,
 "nbformat_minor": 5
}
