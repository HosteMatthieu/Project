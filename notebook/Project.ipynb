{
 "cells": [
  {
   "cell_type": "code",
   "execution_count": 80,
   "id": "273dca40-cad2-4543-8f7d-a0b80794e96e",
   "metadata": {},
   "outputs": [
    {
     "name": "stdout",
     "output_type": "stream",
     "text": [
      "The autoreload extension is already loaded. To reload it, use:\n",
      "  %reload_ext autoreload\n"
     ]
    }
   ],
   "source": [
    "# Mandatory cell for the rest of this assignment\n",
    "\n",
    "%load_ext autoreload\n",
    "%autoreload 2\n",
    "\n",
    "from sys import path\n",
    "\n",
    "path.append('../scripts')"
   ]
  },
  {
   "cell_type": "code",
   "execution_count": 81,
   "id": "80070332-fc91-4d1d-a1f5-a716c2fb1f84",
   "metadata": {},
   "outputs": [
    {
     "data": {
      "text/plain": [
       "'Success'"
      ]
     },
     "execution_count": 81,
     "metadata": {},
     "output_type": "execute_result"
    }
   ],
   "source": [
    "# Import des modules nécessaires\n",
    "from node import BlockchainNode\n",
    "from network import Node\n",
    "from wallet import Wallet\n",
    "from proof_of_stake import ProofOfStake\n",
    "\n",
    "# Création de plusieurs wallets pour les nœuds de la blockchain\n",
    "walletNode1 = Wallet()\n",
    "walletNode2 = Wallet()\n",
    "walletNode3 = Wallet()\n",
    "\n",
    "# Création d'un wallet utilisateur (ex: Alice)\n",
    "walletAlice = Wallet()\n",
    "\n",
    "# Initialisation du mécanisme de Proof of Stake avec le premier nœud\n",
    "pos = ProofOfStake(walletNode1.publicKey)\n",
    "\n",
    "#On reset le network\n",
    "Node.reset_network()\n",
    "\n",
    "#On connecte les 3 noeuds au network\n",
    "node1 = BlockchainNode(walletNode1,pos)\n",
    "node2 = BlockchainNode(walletNode2,pos)\n",
    "node3 = BlockchainNode(walletNode3,pos)\n",
    "\n",
    "assert len(Node.get_all_nodes())==3\n",
    "\"Success\""
   ]
  },
  {
   "cell_type": "code",
   "execution_count": 82,
   "id": "b23dd8cd-e4ce-44eb-81f5-29fb1228c530",
   "metadata": {},
   "outputs": [
    {
     "name": "stdout",
     "output_type": "stream",
     "text": [
      "Vérification de la légitimité du certificat :\n",
      "Clé publique de l'émetteur : 30820122300d06092a864886f70d01010105000382010f003082010a0282010100d104bb98ba76813d2456eca0ec9a010df014561a21e31b84f1a9dc3215e2b32343c7696c3120fc608b64818e2bd6a047f4a409015e61e4ec89478faa58fff88321321c55afe8b5048d89ec68a7a2b274701d15f1c66306e1ec0da87b058d79e41a80ea568a8d6d27ddd629f02a000748ea9a22808ce12cf3ce6d256926da6dc15e486acb2197a8d738c46317e46326cfc5e446201b9cf23000692a3e7408e357d891634ce7f116e9551fc8c0b61a8e296cb4061cc530a7f6e27c87d261dbb591f9930f7345daf286a8aedd7b524b8fab2498949606fb034fa6209f8b7ebe50ceabd48958e92ca07f22afad1bc9fe743dc50d47316b4aa3cb7eeee16763e9e8c50203010001\n",
      "Signature : 793ec6470d16c51a84574d07a2c95b0359f6862a129ce4a9425c27b9c034d6473d93cad347e1dc08b178fd3a8271b075260ab0c4c5ba6c0645ec98e1c9ad84d5d0c4c11a693ce864b2383da3e3f5772670b6b51efc5c34e1ae52dcc429efbf7ea3f4ac2a747cddebb32b761e32b62a135cc8b8347fab9234810e845f8eb020035e62fb7a7822ceefdafd38af1aa6a2cbe85f17d4c86c180bd9dea6f96c5d6e795e7a7b2171c6a3383a90da4bda12da6a29f0709c19a400af2b266f2c4f4150120a13ac64c4f6653bc5876a4cc797f36bf43b31a6e63c730aeb598699c25e5d7e13e86e749e59c8cce4fa3f94ac9591c356e970fcae2135b03c8b5b192d96c24f\n",
      "Hash du certificat : 6892811823c7a3977d933501024c9373aeb512f3046f6b51830f0149877163c2\n",
      "Échec du forger du bloc. Diffusion du certificat : <smart_contract.SmartContractDefinition object at 0x0000027244DF3260>\n",
      "[<block.Block object at 0x0000027244DF1910>]\n",
      "[<block.Block object at 0x0000027244DE8A10>]\n",
      "[<block.Block object at 0x0000027244E7BB30>]\n"
     ]
    }
   ],
   "source": [
    "# Exemple de source de code pour le smart contract\n",
    "source_code = \"\"\"\n",
    "class MyNFTContract:\n",
    "    def __init__(self, issuerPublicKey):\n",
    "        self.issuerPublicKey = issuerPublicKey\n",
    "        self.nfts = {}  # Dictionnaire des NFTs\n",
    "\n",
    "    def mint(self, ownerPublicKey, nftId):\n",
    "        if nftId not in self.nfts:\n",
    "            self.nfts[nftId] = ownerPublicKey\n",
    "            print(f\"NFT {nftId} frappé par {ownerPublicKey}\")\n",
    "        else:\n",
    "            raise ValueError(f\"NFT {nftId} déjà existant\")\n",
    "\n",
    "    def transfer(self, senderPublicKey, receiverPublicKey, nftId):\n",
    "        if nftId in self.nfts and self.nfts[nftId] == senderPublicKey:\n",
    "            self.nfts[nftId] = receiverPublicKey\n",
    "            print(f\"NFT {nftId} transféré de {senderPublicKey} à {receiverPublicKey}\")\n",
    "        else:\n",
    "            raise ValueError(\"NFT inexistant ou propriété invalide\")\n",
    "\"\"\"\n",
    "\n",
    "# Création du Smart Contract (définition)\n",
    "contract_definition = SmartContractDefinition(issuerPublicKey=walletAlice.publicKey, sourceCode=source_code, Ntoken=5)\n",
    "\n",
    "# Signer le certificat\n",
    "walletAlice.sign(contract_definition)\n",
    "\n",
    "# Instanciation du Smart Contract\n",
    "contract_instance = contract_definition.instantiate_contract()\n",
    "\n",
    "# Ajouter le Smart Contract au premier nœud (node1)\n",
    "node1.new_certificate(contract_definition) # Ajouter le smart contract au nœud\n",
    "\n",
    "print(node1.blockchain.blockList)\n",
    "print(node2.blockchain.blockList)\n",
    "print(node3.blockchain.blockList)"
   ]
  },
  {
   "cell_type": "code",
   "execution_count": 71,
   "id": "fbe878b6-695f-4e1a-ba1c-57bfd09b3568",
   "metadata": {},
   "outputs": [
    {
     "name": "stdout",
     "output_type": "stream",
     "text": [
      "NFT NFT1 frappée par Alice\n"
     ]
    }
   ],
   "source": [
    "# Frapper un NFT pour Alice via node1\n",
    "contract_definition.mint(ownerPublicKey=\"Alice\", nftId=\"NFT1\")"
   ]
  },
  {
   "cell_type": "code",
   "execution_count": 72,
   "id": "ce6db9f1-0e5b-4927-af00-801c4aa184b4",
   "metadata": {},
   "outputs": [
    {
     "name": "stdout",
     "output_type": "stream",
     "text": [
      "{'NFT1': 'Alice'}\n"
     ]
    }
   ],
   "source": [
    "print(contract_definition.owners)"
   ]
  },
  {
   "cell_type": "code",
   "execution_count": 75,
   "id": "688e31ea-12fe-4b06-8e42-4cbc905894f5",
   "metadata": {},
   "outputs": [
    {
     "name": "stdout",
     "output_type": "stream",
     "text": [
      "NFT NFT1 transférée de Alice à Edouard\n",
      "{'NFT1': 'Edouard'}\n"
     ]
    }
   ],
   "source": [
    "#Transferer un NFT de Alice à Edouard\n",
    "contract_definition.transfer(senderPublicKey=\"Alice\", receiverPublicKey=\"Edouard\", nftId=\"NFT1\")\n",
    "print(contract_definition.owners)"
   ]
  },
  {
   "cell_type": "code",
   "execution_count": null,
   "id": "b9591c4e-0bdf-49b1-8f83-3f3734df7719",
   "metadata": {},
   "outputs": [],
   "source": []
  }
 ],
 "metadata": {
  "kernelspec": {
   "display_name": "Python 3 (ipykernel)",
   "language": "python",
   "name": "python3"
  },
  "language_info": {
   "codemirror_mode": {
    "name": "ipython",
    "version": 3
   },
   "file_extension": ".py",
   "mimetype": "text/x-python",
   "name": "python",
   "nbconvert_exporter": "python",
   "pygments_lexer": "ipython3",
   "version": "3.12.3"
  }
 },
 "nbformat": 4,
 "nbformat_minor": 5
}
